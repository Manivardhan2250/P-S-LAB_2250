{
  "nbformat": 4,
  "nbformat_minor": 0,
  "metadata": {
    "colab": {
      "provenance": [],
      "authorship_tag": "ABX9TyOlbdiSJvYjWdKmQtf0U3Uq",
      "include_colab_link": true
    },
    "kernelspec": {
      "name": "python3",
      "display_name": "Python 3"
    },
    "language_info": {
      "name": "python"
    }
  },
  "cells": [
    {
      "cell_type": "markdown",
      "metadata": {
        "id": "view-in-github",
        "colab_type": "text"
      },
      "source": [
        "<a href=\"https://colab.research.google.com/github/Manivardhan2250/P-S-LAB_2250/blob/main/LAB_2.ipynb\" target=\"_parent\"><img src=\"https://colab.research.google.com/assets/colab-badge.svg\" alt=\"Open In Colab\"/></a>"
      ]
    },
    {
      "cell_type": "code",
      "execution_count": 1,
      "metadata": {
        "colab": {
          "base_uri": "https://localhost:8080/"
        },
        "id": "e8DvheSxcyuR",
        "outputId": "734f218d-6099-4eb3-8b19-d43e2b1a85b5"
      },
      "outputs": [
        {
          "output_type": "stream",
          "name": "stdout",
          "text": [
            "Mean of the frequency distribution is: 15.777777777777779\n"
          ]
        }
      ],
      "source": [
        "values = [11,12,13,17,18,21]\n",
        "frequencies = [1,3,7,9,4,3]\n",
        "sum_fx = sum(f * x for f, x in zip(frequencies, values))\n",
        "sum_f = sum(frequencies)\n",
        "mean = sum_fx / sum_f\n",
        "print(\"Mean of the frequency distribution is:\", mean)"
      ]
    },
    {
      "cell_type": "code",
      "source": [
        "class_intervals = [(0, 10), (10, 20), (20, 30), (30, 40), (40, 50), (50, 60)]\n",
        "frequencies = [2,3,4,1,2,6]\n",
        "midpoints = [(start + end) / 2 for start, end in class_intervals]\n",
        "sum_fm = sum(f * m for f, m in zip(frequencies, midpoints))\n",
        "sum_f = sum(frequencies)\n",
        "mean = sum_fm / sum_f\n",
        "print(\"Mean of the class-interval frequency distribution is:\", mean)"
      ],
      "metadata": {
        "colab": {
          "base_uri": "https://localhost:8080/"
        },
        "id": "ofYqfDN3dWIw",
        "outputId": "36e379a0-a0a6-4726-d4d0-6df3f581ca45"
      },
      "execution_count": 3,
      "outputs": [
        {
          "output_type": "stream",
          "name": "stdout",
          "text": [
            "Mean of the class-interval frequency distribution is: 33.888888888888886\n"
          ]
        }
      ]
    },
    {
      "cell_type": "code",
      "source": [
        "def calculate_variance(data):\n",
        "    mean = sum(data) / len(data)\n",
        "    squared_differences = [(x - mean) ** 2 for x in data]\n",
        "    variance = sum(squared_differences) / len(data)\n",
        "    return variance\n",
        "data = [10, 12,15,25,14,23,31,26]\n",
        "variance = calculate_variance(data)\n",
        "print(\"The variance of the dataset is:\", variance)"
      ],
      "metadata": {
        "colab": {
          "base_uri": "https://localhost:8080/"
        },
        "id": "DX6IACwMdwiJ",
        "outputId": "c4e94a8e-7059-4063-9798-e7a11384f887"
      },
      "execution_count": 4,
      "outputs": [
        {
          "output_type": "stream",
          "name": "stdout",
          "text": [
            "The variance of the dataset is: 51.75\n"
          ]
        }
      ]
    },
    {
      "cell_type": "code",
      "source": [],
      "metadata": {
        "id": "aCGjHEYKgHV7"
      },
      "execution_count": null,
      "outputs": []
    }
  ]
}