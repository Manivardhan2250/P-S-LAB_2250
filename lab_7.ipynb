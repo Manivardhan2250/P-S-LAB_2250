{
  "nbformat": 4,
  "nbformat_minor": 0,
  "metadata": {
    "colab": {
      "provenance": [],
      "authorship_tag": "ABX9TyPY75Ivz1X/Dg8IvbYGD4fE",
      "include_colab_link": true
    },
    "kernelspec": {
      "name": "python3",
      "display_name": "Python 3"
    },
    "language_info": {
      "name": "python"
    }
  },
  "cells": [
    {
      "cell_type": "markdown",
      "metadata": {
        "id": "view-in-github",
        "colab_type": "text"
      },
      "source": [
        "<a href=\"https://colab.research.google.com/github/Manivardhan2250/P-S-LAB_2250/blob/main/lab_7.ipynb\" target=\"_parent\"><img src=\"https://colab.research.google.com/assets/colab-badge.svg\" alt=\"Open In Colab\"/></a>"
      ]
    },
    {
      "cell_type": "code",
      "execution_count": 1,
      "metadata": {
        "colab": {
          "base_uri": "https://localhost:8080/"
        },
        "id": "kaHXdkBVsUW_",
        "outputId": "6b43da82-aea9-48a9-b3bc-248cd60c9956"
      },
      "outputs": [
        {
          "output_type": "stream",
          "name": "stdout",
          "text": [
            "Sample Mean: 27466.666666666668\n",
            "Sample Standard Deviation: 3621.540494810952\n",
            "95% Confidence Interval: (np.float64(25461.124388611483), np.float64(29472.208944721853))\n",
            "The claimed average cost of living (₹30,000) falls outside the 95% confidence interval.\n",
            "We reject the null hypothesis that the average cost of living is ₹30,000.\n"
          ]
        }
      ],
      "source": [
        "import numpy as np\n",
        "from scipy import stats\n",
        "\n",
        "# Sample data\n",
        "monthly_costs = [25000, 31000, 20000, 28000, 29500, 32000, 21000, 30500, 27000, 28500, 30000, 23000, 31000, 26000, 29500]\n",
        "\n",
        "# 1. Compute sample mean and standard deviation\n",
        "sample_mean = np.mean(monthly_costs)\n",
        "sample_std = np.std(monthly_costs)\n",
        "\n",
        "print(\"Sample Mean:\", sample_mean)\n",
        "print(\"Sample Standard Deviation:\", sample_std)\n",
        "\n",
        "\n",
        "# 2. Calculate 95% confidence interval\n",
        "confidence_level = 0.95\n",
        "degrees_of_freedom = len(monthly_costs) - 1\n",
        "t_critical = stats.t.ppf((1 + confidence_level) / 2, degrees_of_freedom)\n",
        "margin_of_error = t_critical * (sample_std / np.sqrt(len(monthly_costs)))\n",
        "confidence_interval = (sample_mean - margin_of_error, sample_mean + margin_of_error)\n",
        "\n",
        "print(\"95% Confidence Interval:\", confidence_interval)\n",
        "\n",
        "# 3. Hypothesis test using confidence interval\n",
        "claimed_mean = 30000\n",
        "\n",
        "# If the claimed mean falls within the confidence interval, we fail to reject the null hypothesis\n",
        "# If the claimed mean falls outside the confidence interval, we reject the null hypothesis\n",
        "\n",
        "if confidence_interval[0] <= claimed_mean <= confidence_interval[1]:\n",
        "  print(\"The claimed average cost of living (₹30,000) falls within the 95% confidence interval.\")\n",
        "  print(\"We fail to reject the null hypothesis that the average cost of living is ₹30,000.\")\n",
        "else:\n",
        "  print(\"The claimed average cost of living (₹30,000) falls outside the 95% confidence interval.\")\n",
        "  print(\"We reject the null hypothesis that the average cost of living is ₹30,000.\")\n"
      ]
    },
    {
      "cell_type": "code",
      "source": [],
      "metadata": {
        "id": "CbvL9g5nszgW"
      },
      "execution_count": null,
      "outputs": []
    }
  ]
}