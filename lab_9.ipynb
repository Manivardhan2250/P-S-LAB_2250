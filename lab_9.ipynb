{
  "nbformat": 4,
  "nbformat_minor": 0,
  "metadata": {
    "colab": {
      "provenance": [],
      "authorship_tag": "ABX9TyM0QaJB9uf/ftaubQmbC4Tr",
      "include_colab_link": true
    },
    "kernelspec": {
      "name": "python3",
      "display_name": "Python 3"
    },
    "language_info": {
      "name": "python"
    }
  },
  "cells": [
    {
      "cell_type": "markdown",
      "metadata": {
        "id": "view-in-github",
        "colab_type": "text"
      },
      "source": [
        "<a href=\"https://colab.research.google.com/github/Manivardhan2250/P-S-LAB_2250/blob/main/lab_9.ipynb\" target=\"_parent\"><img src=\"https://colab.research.google.com/assets/colab-badge.svg\" alt=\"Open In Colab\"/></a>"
      ]
    },
    {
      "cell_type": "code",
      "execution_count": 1,
      "metadata": {
        "colab": {
          "base_uri": "https://localhost:8080/"
        },
        "id": "dDKNJLyPEsd7",
        "outputId": "3bc83a05-5784-4c65-809a-552d50df7d27"
      },
      "outputs": [
        {
          "output_type": "stream",
          "name": "stdout",
          "text": [
            "Sample mean: 9.833333333333334\n",
            "Sample standard deviation: 1.7494587907710375\n",
            "T-statistic: -0.330016501237602\n",
            "P-value: 0.7475870246614912\n",
            "Fail to reject the null hypothesis. There is not enough evidence to conclude that the sample mean waiting time significantly differs from the claimed mean of 10 minutes.\n"
          ]
        }
      ],
      "source": [
        "# prompt: 1) A coffee shop claims that the average time it takes for customers to receive their orders is 10 minutes. A researcher\n",
        "# wants to test this claim by taking a sample of 12 customers and measuring how long each one waits for their order. The\n",
        "# researcher collects the following data for the sample of 12 customers (in minutes):\n",
        "# Sample data (waiting time in minutes):\n",
        "# 11, 9, 10, 12, 8, 7, 13, 11, 10, 9, 8, 10\n",
        "# The researcher wants to test if the sample mean waiting time significantly differs from the claimed mean of 10 minutes.\n",
        "\n",
        "import numpy as np\n",
        "from scipy import stats\n",
        "\n",
        "# Sample data\n",
        "sample_data = np.array([11, 9, 10, 12, 8, 7, 13, 11, 10, 9, 8, 10])\n",
        "\n",
        "# Population mean claimed by the coffee shop\n",
        "population_mean = 10\n",
        "\n",
        "# Sample size\n",
        "n = len(sample_data)\n",
        "\n",
        "# Calculate the sample mean and standard deviation\n",
        "sample_mean = np.mean(sample_data)\n",
        "sample_std = np.std(sample_data, ddof=1)  # Use ddof=1 for sample standard deviation\n",
        "\n",
        "# Perform a one-sample t-test\n",
        "t_statistic, p_value = stats.ttest_1samp(sample_data, population_mean)\n",
        "\n",
        "# Print the results\n",
        "print(\"Sample mean:\", sample_mean)\n",
        "print(\"Sample standard deviation:\", sample_std)\n",
        "print(\"T-statistic:\", t_statistic)\n",
        "print(\"P-value:\", p_value)\n",
        "\n",
        "# Interpret the results (using a significance level of 0.05)\n",
        "alpha = 0.05\n",
        "if p_value < alpha:\n",
        "  print(\"Reject the null hypothesis. The sample mean waiting time significantly differs from the claimed mean of 10 minutes.\")\n",
        "else:\n",
        "  print(\"Fail to reject the null hypothesis. There is not enough evidence to conclude that the sample mean waiting time significantly differs from the claimed mean of 10 minutes.\")\n"
      ]
    },
    {
      "cell_type": "code",
      "source": [
        "# prompt: 2) A investigator wants to compare the average number of steps walked per day by two groups of individuals:\n",
        "# Group A: Individuals who use a fitness tracker to monitor their steps.\n",
        "# Group B: Individuals who do not use a fitness tracker.\n",
        "# The investigator wants to know if there is a significant difference in the average number of steps walked per day between\n",
        "# the two groups. The data for the number of steps walked per day for each group are as follows:\n",
        "# Group A (Fitness Tracker Users):\n",
        "# 8500, 9000, 9200, 8800, 7600, 9500, 8900, 9100, 8400, 8600\n",
        "# Group B (Non-Fitness Tracker Users):\n",
        "# 7800, 8200, 8500, 8000, 7900, 7400, 7700, 8100, 8300, 7600\n",
        "# The investigator will use a two-sample independent t-test to compare the average number of steps walked per day between\n",
        "# the two groups and determine if there is a significant difference.\n",
        "\n",
        "import numpy as np\n",
        "from scipy import stats\n",
        "\n",
        "# Data for Group A (Fitness Tracker Users)\n",
        "group_a = np.array([8500, 9000, 9200, 8800, 7600, 9500, 8900, 9100, 8400, 8600])\n",
        "\n",
        "# Data for Group B (Non-Fitness Tracker Users)\n",
        "group_b = np.array([7800, 8200, 8500, 8000, 7900, 7400, 7700, 8100, 8300, 7600])\n",
        "\n",
        "# Perform an independent two-sample t-test\n",
        "t_statistic, p_value = stats.ttest_ind(group_a, group_b)\n",
        "\n",
        "# Print the results\n",
        "print(\"T-statistic:\", t_statistic)\n",
        "print(\"P-value:\", p_value)\n",
        "\n",
        "# Interpret the results (using a significance level of 0.05)\n",
        "alpha = 0.05\n",
        "if p_value < alpha:\n",
        "    print(\"Reject the null hypothesis. There is a significant difference in the average number of steps walked per day between the two groups.\")\n",
        "else:\n",
        "    print(\"Fail to reject the null hypothesis. There is not enough evidence to conclude a significant difference in the average number of steps walked per day between the two groups.\")\n"
      ],
      "metadata": {
        "colab": {
          "base_uri": "https://localhost:8080/"
        },
        "id": "2tnVEt8kE4Sh",
        "outputId": "b09a7db3-2e2b-4693-fcb6-657c1c23cda6"
      },
      "execution_count": 2,
      "outputs": [
        {
          "output_type": "stream",
          "name": "stdout",
          "text": [
            "T-statistic: 4.09053812172041\n",
            "P-value: 0.0006865230380527405\n",
            "Reject the null hypothesis. There is a significant difference in the average number of steps walked per day between the two groups.\n"
          ]
        }
      ]
    },
    {
      "cell_type": "code",
      "source": [
        "# prompt: 3) A researcher wants to know if a new study method improves students’ test scores. The researcher measures the test\n",
        "# scores of 10 students before and after using the new study method. The test scores (out of 100 points) are as follows:\n",
        "# Before Study Method:\n",
        "# 72, 68, 65, 78, 80, 70, 74, 68, 82, 76\n",
        "# After Study Method:\n",
        "# 80, 75, 85, 88, 90, 78, 84, 80, 92, 86\n",
        "# The researcher wants to test if there is a significant improvement in the average test scores after using the new study\n",
        "# method\n",
        "\n",
        "import numpy as np\n",
        "from scipy import stats\n",
        "\n",
        "# Test scores before the study method\n",
        "before = np.array([72, 68, 65, 78, 80, 70, 74, 68, 82, 76])\n",
        "\n",
        "# Test scores after the study method\n",
        "after = np.array([80, 75, 85, 88, 90, 78, 84, 80, 92, 86])\n",
        "\n",
        "# Perform a paired t-test\n",
        "t_statistic, p_value = stats.ttest_rel(before, after)\n",
        "\n",
        "# Print the results\n",
        "print(\"T-statistic:\", t_statistic)\n",
        "print(\"P-value:\", p_value)\n",
        "\n",
        "# Interpret the results (using a significance level of 0.05)\n",
        "alpha = 0.05\n",
        "if p_value < alpha:\n",
        "    print(\"Reject the null hypothesis. There is a significant improvement in test scores after using the new study method.\")\n",
        "else:\n",
        "    print(\"Fail to reject the null hypothesis. There is not enough evidence to conclude a significant improvement in test scores after using the new study method.\")\n"
      ],
      "metadata": {
        "colab": {
          "base_uri": "https://localhost:8080/"
        },
        "id": "uSakVKkBFZP-",
        "outputId": "0fac72c8-0f82-47e1-f641-b69f935fc193"
      },
      "execution_count": 3,
      "outputs": [
        {
          "output_type": "stream",
          "name": "stdout",
          "text": [
            "T-statistic: -9.150638076942498\n",
            "P-value: 7.452437752288813e-06\n",
            "Reject the null hypothesis. There is a significant improvement in test scores after using the new study method.\n"
          ]
        }
      ]
    },
    {
      "cell_type": "code",
      "source": [],
      "metadata": {
        "id": "ea1YZ0krFjBD"
      },
      "execution_count": null,
      "outputs": []
    }
  ]
}