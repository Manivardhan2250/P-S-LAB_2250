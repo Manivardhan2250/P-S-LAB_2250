{
  "nbformat": 4,
  "nbformat_minor": 0,
  "metadata": {
    "colab": {
      "provenance": [],
      "authorship_tag": "ABX9TyPZiufwYl0aLfJ0mH5+JtcE",
      "include_colab_link": true
    },
    "kernelspec": {
      "name": "python3",
      "display_name": "Python 3"
    },
    "language_info": {
      "name": "python"
    }
  },
  "cells": [
    {
      "cell_type": "markdown",
      "metadata": {
        "id": "view-in-github",
        "colab_type": "text"
      },
      "source": [
        "<a href=\"https://colab.research.google.com/github/Manivardhan2250/P-S-LAB_2250/blob/main/Assignment_3.ipynb\" target=\"_parent\"><img src=\"https://colab.research.google.com/assets/colab-badge.svg\" alt=\"Open In Colab\"/></a>"
      ]
    },
    {
      "cell_type": "code",
      "execution_count": 1,
      "metadata": {
        "colab": {
          "base_uri": "https://localhost:8080/"
        },
        "id": "DvC6zc3bY1dg",
        "outputId": "543fd99d-a011-4e55-c3ed-b589bc4357f0"
      },
      "outputs": [
        {
          "output_type": "stream",
          "name": "stdout",
          "text": [
            "Median Age: 56.0\n",
            "Mode Age(s): [45]\n"
          ]
        }
      ],
      "source": [
        "import numpy as np\n",
        "import pandas as pd\n",
        "\n",
        "# Given dataset\n",
        "ages = [45,67,89,23,45,67,89,34,56,78,90,21,45,67,89,23,45,\n",
        "        56,78,34,23,45,67,89,45,67,89,12,34,56,78,90,23,45,\n",
        "        67,12,34,78,45,67,89,34,56,78,90,23,56,78,89,45,12,\n",
        "        67,45,78,23,45,67,89,34,45,23,78,67,89,45,67,89,12,\n",
        "        34,56,78,90,23,12,34,56,78,23,45,67,89,34,45,23,45,\n",
        "        67,89,12,34,56,78,90,45,23]\n",
        "\n",
        "# Calculate median using numpy\n",
        "median_age = np.median(ages)\n",
        "\n",
        "# Calculate mode using pandas\n",
        "mode_age = pd.Series(ages).mode().tolist()  # Convert mode to list to handle multiple modes\n",
        "\n",
        "print(\"Median Age:\", median_age)\n",
        "print(\"Mode Age(s):\", mode_age)\n"
      ]
    },
    {
      "cell_type": "code",
      "source": [
        "import pandas as pd\n",
        "\n",
        "# Given grouped data\n",
        "scores = [10,20,30,40,50,60,70,80,90,100]\n",
        "frequencies = [200,350,400,300,250,200,150,80,50,20]\n",
        "\n",
        "# Create a DataFrame\n",
        "df = pd.DataFrame({'Scores': scores, 'Frequency': frequencies})\n",
        "\n",
        "# Calculate cumulative frequency\n",
        "df['Cumulative_Frequency'] = df['Frequency'].cumsum()\n",
        "\n",
        "# Find the median class\n",
        "total_count = df['Frequency'].sum()\n",
        "median_position = total_count / 2\n",
        "\n",
        "median_class_index = df[df['Cumulative_Frequency'] >= median_position].index[0]\n",
        "L = df.iloc[median_class_index - 1]['Scores'] if median_class_index > 0 else 0  # Lower boundary\n",
        "F = df.iloc[median_class_index]['Cumulative_Frequency']\n",
        "f = df.iloc[median_class_index]['Frequency']\n",
        "h = df.iloc[1]['Scores'] - df.iloc[0]['Scores']  # Class width\n",
        "\n",
        "# Median formula\n",
        "median = L + ((median_position - (F - f)) / f) * h\n",
        "\n",
        "# Mode Calculation (Modal Class)\n",
        "modal_class_index = df['Frequency'].idxmax()\n",
        "Lm = df.iloc[modal_class_index - 1]['Scores'] if modal_class_index > 0 else 0  # Lower boundary\n",
        "fm = df.iloc[modal_class_index]['Frequency']\n",
        "f1 = df.iloc[modal_class_index - 1]['Frequency'] if modal_class_index > 0 else 0\n",
        "f2 = df.iloc[modal_class_index + 1]['Frequency'] if modal_class_index < len(df) - 1 else 0\n",
        "\n",
        "# Mode formula\n",
        "mode = Lm + ((fm - f1) / ((fm - f1) + (fm - f2))) * h\n",
        "\n",
        "print(\"Median Score:\", median)\n",
        "print(\"Mode Score:\", mode)\n"
      ],
      "metadata": {
        "colab": {
          "base_uri": "https://localhost:8080/"
        },
        "id": "icbKsOdxdcCG",
        "outputId": "0ca2db7d-fa11-4450-9fb3-10874e77478c"
      },
      "execution_count": 2,
      "outputs": [
        {
          "output_type": "stream",
          "name": "stdout",
          "text": [
            "Median Score: 31.666666666666668\n",
            "Mode Score: 23.333333333333332\n"
          ]
        }
      ]
    },
    {
      "cell_type": "code",
      "source": [
        "import pandas as pd\n",
        "\n",
        "# Given grouped data\n",
        "income_ranges = [(0, 20), (20, 40), (40, 60), (60, 80), (80, 100), (100, 120), (120, 140)]\n",
        "frequencies = [50, 120, 200, 300, 220, 70, 40]\n",
        "\n",
        "# Creating a DataFrame\n",
        "df = pd.DataFrame({'Income Range': income_ranges, 'Frequency': frequencies})\n",
        "\n",
        "# Compute cumulative frequency\n",
        "df['Cumulative_Frequency'] = df['Frequency'].cumsum()\n",
        "\n",
        "# Total number of households\n",
        "total_households = sum(frequencies)\n",
        "\n",
        "# **Step 3: Finding the Median**\n",
        "median_position = total_households / 2\n",
        "\n",
        "# Find the median class (first class with cumulative frequency >= median position)\n",
        "median_class_index = df[df['Cumulative_Frequency'] >= median_position].index[0]\n",
        "L = df.iloc[median_class_index]['Income Range'][0]  # Lower boundary of median class\n",
        "F = df.iloc[median_class_index]['Cumulative_Frequency']  # Cumulative frequency before median class\n",
        "f = df.iloc[median_class_index]['Frequency']  # Frequency of median class\n",
        "h = df.iloc[median_class_index]['Income Range'][1] - df.iloc[median_class_index]['Income Range'][0]  # Class width\n",
        "\n",
        "# Median formula:\n",
        "median = L + ((median_position - (F - f)) / f) * h\n",
        "\n",
        "# **Step 4: Finding the Mode**\n",
        "modal_class_index = df['Frequency'].idxmax()  # Class with highest frequency\n",
        "Lm = df.iloc[modal_class_index]['Income Range'][0]  # Lower boundary of modal class\n",
        "fm = df.iloc[modal_class_index]['Frequency']  # Frequency of modal class\n",
        "f1 = df.iloc[modal_class_index - 1]['Frequency'] if modal_class_index > 0 else 0  # Frequency of previous class\n",
        "f2 = df.iloc[modal_class_index + 1]['Frequency'] if modal_class_index < len(df) - 1 else 0  # Frequency of next class\n",
        "\n",
        "# Mode formula:\n",
        "mode = Lm + ((fm - f1) / ((fm - f1) + (fm - f2))) * h\n",
        "\n",
        "# **Step 5: Output the Results**\n",
        "print(\"Median Income:\", median)\n",
        "print(\"Mode Income:\", mode)\n",
        "print(\"Modal Class:\", df.iloc[modal_class_index]['Income Range'])\n"
      ],
      "metadata": {
        "colab": {
          "base_uri": "https://localhost:8080/"
        },
        "id": "-ztrM_MkdjRL",
        "outputId": "5694fd07-eba7-44a1-9ec4-edd34330dac0"
      },
      "execution_count": 3,
      "outputs": [
        {
          "output_type": "stream",
          "name": "stdout",
          "text": [
            "Median Income: 68.66666666666667\n",
            "Mode Income: 71.11111111111111\n",
            "Modal Class: (60, 80)\n"
          ]
        }
      ]
    },
    {
      "cell_type": "code",
      "source": [],
      "metadata": {
        "id": "SKQOHrWBd5cW"
      },
      "execution_count": null,
      "outputs": []
    }
  ]
}